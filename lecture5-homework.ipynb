{
  "nbformat": 4,
  "nbformat_minor": 0,
  "metadata": {
    "colab": {
      "name": "Programming#1.ipynb",
      "version": "0.3.2",
      "provenance": []
    },
    "kernelspec": {
      "name": "python3",
      "display_name": "Python 3"
    }
  },
  "cells": [
    {
      "metadata": {
        "id": "f8I-RpThqsL_",
        "colab_type": "code",
        "colab": {
          "base_uri": "https://localhost:8080/",
          "height": 506
        },
        "outputId": "eebd6494-cdf8-494e-c391-a7c4c93c93e7"
      },
      "cell_type": "code",
      "source": [
        "import sys\n",
        "\n",
        "# Boxes Calculator Function\n",
        "def calculator(itemsNum):\n",
        "  fullBoxs = itemsNum // 10\n",
        "  notFullBoxs = min(itemsNum % 10, 1)\n",
        "  totalBoxs = fullBoxs + notFullBoxs\n",
        "  if totalBoxs < 7 :\n",
        "    result = totalBoxs * 8\n",
        "  else :\n",
        "    promotionBoxs = totalBoxs - 6\n",
        "    result = (6 * 8) + (promotionBoxs * 5)\n",
        "  print(\"Items: \", itemsNum)\n",
        "  print(\"Boxes needed: \", totalBoxs)\n",
        "  print(\"Cost: $\", result)\n",
        "  print()\n",
        "\n",
        "# stop full traceback from KeyboardInterrupt\n",
        "try:\n",
        "    while(True):\n",
        "      itemsNum = int(input(\"Enter number of items: \"))\n",
        "      calculator(itemsNum)\n",
        "except KeyboardInterrupt:\n",
        "    sys.exit(0)"
      ],
      "execution_count": 17,
      "outputs": [
        {
          "output_type": "stream",
          "text": [
            "Enter number of items: 20\n",
            "Items:  20\n",
            "Boxes needed:  2\n",
            "Cost: $ 16\n",
            "\n",
            "Enter number of items: 36\n",
            "Items:  36\n",
            "Boxes needed:  4\n",
            "Cost: $ 32\n",
            "\n",
            "Enter number of items: 65\n",
            "Items:  65\n",
            "Boxes needed:  7\n",
            "Cost: $ 53\n",
            "\n",
            "Enter number of items: 102\n",
            "Items:  102\n",
            "Boxes needed:  11\n",
            "Cost: $ 73\n",
            "\n"
          ],
          "name": "stdout"
        },
        {
          "output_type": "error",
          "ename": "SystemExit",
          "evalue": "ignored",
          "traceback": [
            "An exception has occurred, use %tb to see the full traceback.\n",
            "\u001b[0;31mSystemExit\u001b[0m\u001b[0;31m:\u001b[0m 0\n"
          ]
        },
        {
          "output_type": "stream",
          "text": [
            "/usr/local/lib/python3.6/dist-packages/IPython/core/interactiveshell.py:2890: UserWarning: To exit: use 'exit', 'quit', or Ctrl-D.\n",
            "  warn(\"To exit: use 'exit', 'quit', or Ctrl-D.\", stacklevel=1)\n"
          ],
          "name": "stderr"
        }
      ]
    }
  ]
}