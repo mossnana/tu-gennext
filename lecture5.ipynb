{
  "nbformat": 4,
  "nbformat_minor": 0,
  "metadata": {
    "colab": {
      "name": "lecture5.ipynb",
      "version": "0.3.2",
      "provenance": []
    },
    "kernelspec": {
      "name": "python3",
      "display_name": "Python 3"
    }
  },
  "cells": [
    {
      "metadata": {
        "id": "MuHfJAh44Mh1",
        "colab_type": "code",
        "colab": {
          "base_uri": "https://localhost:8080/",
          "height": 69
        },
        "outputId": "76e5f4e5-c821-45dd-cb99-b86abe79675e"
      },
      "cell_type": "code",
      "source": [
        "import numpy as np\n",
        "\n",
        "def get_result1(x, y, z):\n",
        "  array = [x, y, z]\n",
        "  resultMin = min(x, y, z)\n",
        "  array.pop(array.index(resultMin))\n",
        "  return np.sum(array)\n",
        "\n",
        "print(get_result1(1, 2, 3))\n",
        "print(get_result1(1, 12, 3))\n",
        "print(get_result1(6, 2, 3))\n"
      ],
      "execution_count": 20,
      "outputs": [
        {
          "output_type": "stream",
          "text": [
            "5\n",
            "15\n",
            "9\n"
          ],
          "name": "stdout"
        }
      ]
    },
    {
      "metadata": {
        "id": "e20DAVaDAN5u",
        "colab_type": "code",
        "colab": {
          "base_uri": "https://localhost:8080/",
          "height": 34
        },
        "outputId": "c16d9f8e-90df-4060-b29c-b800089de0bf"
      },
      "cell_type": "code",
      "source": [
        "def get_result2(x, y):\n",
        "  getLenX = len(x)\n",
        "  getLenY = len(y)\n",
        "  result = max(getLenX, getLenY)\n",
        "  return result\n",
        "\n",
        "print(get_result2(\"Hello World\", \"Wow\"))"
      ],
      "execution_count": 22,
      "outputs": [
        {
          "output_type": "stream",
          "text": [
            "11\n"
          ],
          "name": "stdout"
        }
      ]
    },
    {
      "metadata": {
        "id": "ZXzSO93kBNDb",
        "colab_type": "code",
        "colab": {
          "base_uri": "https://localhost:8080/",
          "height": 34
        },
        "outputId": "2c93f455-ea13-47f7-dd1c-faab73e609d7"
      },
      "cell_type": "code",
      "source": [
        "def get_result3(x):\n",
        "  getFirstChar = x[0]\n",
        "  getLastChar = x[len(x)-1]\n",
        "  return ((getLastChar+getFirstChar).upper())\n",
        "\n",
        "print(get_result3(\"Hello World\"))"
      ],
      "execution_count": 25,
      "outputs": [
        {
          "output_type": "stream",
          "text": [
            "DH\n"
          ],
          "name": "stdout"
        }
      ]
    },
    {
      "metadata": {
        "id": "RPW0pBNMCXd3",
        "colab_type": "code",
        "colab": {
          "base_uri": "https://localhost:8080/",
          "height": 69
        },
        "outputId": "ca279c8b-6b78-49f2-9301-8e2ccf8d2e10"
      },
      "cell_type": "code",
      "source": [
        "def get_result4(x, y):\n",
        "  result1 = x // y\n",
        "  result2 = min(x % y, 1)\n",
        "  return result1 + result2\n",
        "\n",
        "print(get_result4(30, 16))\n",
        "print(get_result4(30, 10))\n",
        "print(get_result4(30, 2))"
      ],
      "execution_count": 51,
      "outputs": [
        {
          "output_type": "stream",
          "text": [
            "2\n",
            "3\n",
            "15\n"
          ],
          "name": "stdout"
        }
      ]
    },
    {
      "metadata": {
        "id": "ChDPkGqfECxA",
        "colab_type": "code",
        "colab": {}
      },
      "cell_type": "code",
      "source": [
        ""
      ],
      "execution_count": 0,
      "outputs": []
    }
  ]
}