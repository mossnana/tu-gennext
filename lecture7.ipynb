{
  "nbformat": 4,
  "nbformat_minor": 0,
  "metadata": {
    "colab": {
      "name": "lesson7.ipynb",
      "version": "0.3.2",
      "provenance": [],
      "collapsed_sections": []
    },
    "kernelspec": {
      "name": "python3",
      "display_name": "Python 3"
    }
  },
  "cells": [
    {
      "metadata": {
        "id": "ZH_19Rv64DV5",
        "colab_type": "code",
        "colab": {
          "base_uri": "https://localhost:8080/",
          "height": 121
        },
        "outputId": "fedff18a-e2b4-4906-efe1-877ea142e111"
      },
      "cell_type": "code",
      "source": [
        "i = 0\n",
        "j = 0\n",
        "row = \"\"\n",
        "while i < 6:\n",
        "  if i % 2 == 0:\n",
        "    while j < 8:\n",
        "      if j % 2 == 0:\n",
        "        row += \" \"\n",
        "        j += 1\n",
        "      else:\n",
        "        row += \"#\"\n",
        "        j += 1\n",
        "    print (row)\n",
        "  else:\n",
        "    while j < 8:\n",
        "      if j % 2 != 0:\n",
        "        row += \" \"\n",
        "        j += 1\n",
        "      else:\n",
        "        row += \"#\"\n",
        "        j += 1\n",
        "    print (row)\n",
        "    row = \"\"\n",
        "  j = 0\n",
        "  row = \"\"\n",
        "  i += 1\n",
        "  "
      ],
      "execution_count": 33,
      "outputs": [
        {
          "output_type": "stream",
          "text": [
            " # # # #\n",
            "# # # # \n",
            " # # # #\n",
            "# # # # \n",
            " # # # #\n",
            "# # # # \n"
          ],
          "name": "stdout"
        }
      ]
    },
    {
      "metadata": {
        "id": "TuCDBBvO_qZP",
        "colab_type": "code",
        "colab": {
          "base_uri": "https://localhost:8080/",
          "height": 69
        },
        "outputId": "522d5075-4615-4e51-cea4-a1212e007856"
      },
      "cell_type": "code",
      "source": [
        "def get_price(child, adult):\n",
        "  child_price = 10\n",
        "  adult_price = 25\n",
        "  discount_size = 14\n",
        "  discount_rate = 0.9\n",
        "  cost = (child * child_price) + (adult * adult_price)\n",
        "  if child + adult >= 14:\n",
        "    cost *= discount_rate\n",
        "  return cost\n",
        "\n",
        "def main():\n",
        "  num_child = int(input(\"Enter Child Number: \"))\n",
        "  num_adult = int(input(\"Enter Adult Number: \"))\n",
        "  print(get_price(num_child, num_adult))\n",
        "  \n",
        "main()"
      ],
      "execution_count": 36,
      "outputs": [
        {
          "output_type": "stream",
          "text": [
            "Enter Child Number: 55\n",
            "Enter Adult Number: 66\n",
            "1980.0\n"
          ],
          "name": "stdout"
        }
      ]
    },
    {
      "metadata": {
        "id": "L_1hnadRBdfz",
        "colab_type": "code",
        "colab": {
          "base_uri": "https://localhost:8080/",
          "height": 52
        },
        "outputId": "b655da29-42f8-4fea-c370-4ef6dfe32da8"
      },
      "cell_type": "code",
      "source": [
        "def copyright_check(author_death_year, current_year):\n",
        "  copyright_age = current_year - author_death_year\n",
        "  if(copyright_age > 50):\n",
        "    copyright_status = \"Copyright Expired.\"\n",
        "  else:\n",
        "    copyright_status = \"Copyright Available.\"\n",
        "  return copyright_status\n",
        "    \n",
        "def main():\n",
        "  current_year = 2018\n",
        "  author_death_year = int(input(\"Enter year of author's death: \"))\n",
        "  print(copyright_check(author_death_year, current_year))\n",
        "  \n",
        "main()"
      ],
      "execution_count": 38,
      "outputs": [
        {
          "output_type": "stream",
          "text": [
            "Enter year of author's death: 1966\n",
            "Copyright Expired\n"
          ],
          "name": "stdout"
        }
      ]
    },
    {
      "metadata": {
        "id": "xzlfLytTDKZ9",
        "colab_type": "code",
        "colab": {
          "base_uri": "https://localhost:8080/",
          "height": 712
        },
        "outputId": "bf3a58a7-166c-431f-90c9-edd75f41ea37"
      },
      "cell_type": "code",
      "source": [
        "import random\n",
        "\n",
        "def print_message():\n",
        "  number = random.randint(1, 3)\n",
        "  if number == 1:\n",
        "    print('ก็พอได้อยู่')\n",
        "  elif number == 2:\n",
        "    print('ไม่แน่ ๆ')\n",
        "  else:\n",
        "    print('ยากละ เชื่อดิ')\n",
        "\n",
        "def main():\n",
        "  print(\"Life will improve\")\n",
        "  print_message()\n",
        "\n",
        "i = 0\n",
        "while i < 20:\n",
        "  main()\n",
        "  i += 1"
      ],
      "execution_count": 52,
      "outputs": [
        {
          "output_type": "stream",
          "text": [
            "Life will improve\n",
            "ยากละ เชื่อดิ\n",
            "Life will improve\n",
            "ก็พอได้อยู่\n",
            "Life will improve\n",
            "ก็พอได้อยู่\n",
            "Life will improve\n",
            "ก็พอได้อยู่\n",
            "Life will improve\n",
            "ก็พอได้อยู่\n",
            "Life will improve\n",
            "ยากละ เชื่อดิ\n",
            "Life will improve\n",
            "ยากละ เชื่อดิ\n",
            "Life will improve\n",
            "ก็พอได้อยู่\n",
            "Life will improve\n",
            "ยากละ เชื่อดิ\n",
            "Life will improve\n",
            "ไม่แน่ ๆ\n",
            "Life will improve\n",
            "ไม่แน่ ๆ\n",
            "Life will improve\n",
            "ก็พอได้อยู่\n",
            "Life will improve\n",
            "ก็พอได้อยู่\n",
            "Life will improve\n",
            "ไม่แน่ ๆ\n",
            "Life will improve\n",
            "ไม่แน่ ๆ\n",
            "Life will improve\n",
            "ก็พอได้อยู่\n",
            "Life will improve\n",
            "ไม่แน่ ๆ\n",
            "Life will improve\n",
            "ก็พอได้อยู่\n",
            "Life will improve\n",
            "ไม่แน่ ๆ\n",
            "Life will improve\n",
            "ยากละ เชื่อดิ\n"
          ],
          "name": "stdout"
        }
      ]
    },
    {
      "metadata": {
        "id": "MmtKHWuHJ7F-",
        "colab_type": "code",
        "colab": {
          "base_uri": "https://localhost:8080/",
          "height": 139
        },
        "outputId": "84f27e61-bd94-4a6c-9fc9-b3e434e702b1"
      },
      "cell_type": "code",
      "source": [
        "def add_bonus(salary):\n",
        "  if salary < 150000:\n",
        "    new_salary = salary + 300\n",
        "    print(\"Superb performance!\")\n",
        "  else:\n",
        "    new_salary = salary + 3000\n",
        "    print(\"Goodjob\")\n",
        "  return new_salary\n",
        "  \n",
        "def main():\n",
        "  salary = 34000\n",
        "  new_salary = add_bonus(salary)\n",
        "  print(\"old salary: $\" + str(salary))\n",
        "  print(\"new salary: $\" + str(new_salary))\n",
        "  print()\n",
        "  salary = 250000\n",
        "  new_salary = add_bonus(salary)\n",
        "  print(\"old salary: $\" + str(salary))\n",
        "  print(\"new salary: $\" + str(new_salary))\n",
        "  \n",
        "main()"
      ],
      "execution_count": 55,
      "outputs": [
        {
          "output_type": "stream",
          "text": [
            "Superb performance!\n",
            "old salary: $34000\n",
            "new salary: $34300\n",
            "\n",
            "Goodjob\n",
            "old salary: $250000\n",
            "new salary: $253000\n"
          ],
          "name": "stdout"
        }
      ]
    }
  ]
}