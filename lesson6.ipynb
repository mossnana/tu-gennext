{
  "nbformat": 4,
  "nbformat_minor": 0,
  "metadata": {
    "colab": {
      "name": "lesson6.ipynb",
      "version": "0.3.2",
      "provenance": []
    },
    "kernelspec": {
      "name": "python3",
      "display_name": "Python 3"
    }
  },
  "cells": [
    {
      "metadata": {
        "id": "T7uqv_LmMXqk",
        "colab_type": "code",
        "colab": {
          "base_uri": "https://localhost:8080/",
          "height": 208
        },
        "outputId": "dbd4b845-1fb6-4751-a72f-ac5df2b0a5b4"
      },
      "cell_type": "code",
      "source": [
        "def get_word(prompt):\n",
        "  word = input(\"Enter \" + prompt + \" : \")\n",
        "  return word\n",
        "\n",
        "def display_madlib(lib):\n",
        "  stars = \"*\" * 35\n",
        "  print(stars)\n",
        "  print(lib[0], \" had a little \", lib[1], \",\")\n",
        "  print(\"its fleece was \" + lib[2]+ \" as \" + lib[3] + \".\")\n",
        "  print(\"Everywhere that \" + lib[0] + \" went,\")\n",
        "  print(\"the \" + lib[1] + \" was sure to \" + lib[4] + \".\")\n",
        "  print(stars)\n",
        "  \n",
        "def carry_out_madlib():\n",
        "  name = get_word(\"Name\")\n",
        "  animal = get_word(\"Animal\")\n",
        "  color = get_word(\"Color\")\n",
        "  pn = get_word(\"Plural noun\")\n",
        "  action = get_word(\"Action\")\n",
        "  lib = [name, animal, color, pn, action]\n",
        "  display_madlib(lib)\n",
        "  \n",
        "carry_out_madlib()"
      ],
      "execution_count": 21,
      "outputs": [
        {
          "output_type": "stream",
          "text": [
            "Enter Name :K\n",
            "Enter Animal :C\n",
            "Enter Color :G\n",
            "Enter Plural noun :Z\n",
            "Enter Action :S\n",
            "***********************************\n",
            "K  had a little  C ,\n",
            "its fleece was G as Z.\n",
            "Everywhere that K went,\n",
            "the C was sure to S.\n",
            "***********************************\n"
          ],
          "name": "stdout"
        }
      ]
    },
    {
      "metadata": {
        "id": "nraeRiR9U8cK",
        "colab_type": "code",
        "colab": {}
      },
      "cell_type": "code",
      "source": [
        ""
      ],
      "execution_count": 0,
      "outputs": []
    }
  ]
}